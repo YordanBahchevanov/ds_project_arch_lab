{
 "cells": [
  {
   "cell_type": "code",
   "execution_count": 18,
   "id": "419c5311",
   "metadata": {},
   "outputs": [],
   "source": [
    "import numpy as np\n",
    "import pandas as pd\n",
    "import matplotlib.pyplot as plt\n",
    "import seaborn as sns"
   ]
  },
  {
   "cell_type": "code",
   "execution_count": 19,
   "id": "63705594",
   "metadata": {},
   "outputs": [],
   "source": [
    "pd.set_option(\"display.max_columns\", None)\n",
    "sns.set(style=\"whitegrid\", palette=\"muted\", font_scale=1.1)"
   ]
  },
  {
   "cell_type": "code",
   "execution_count": 20,
   "id": "245566e3",
   "metadata": {},
   "outputs": [],
   "source": [
    "df = pd.read_csv(\"../data/raw/asthma_disease_data.csv\")"
   ]
  },
  {
   "cell_type": "code",
   "execution_count": 21,
   "id": "05021bfe",
   "metadata": {},
   "outputs": [
    {
     "name": "stdout",
     "output_type": "stream",
     "text": [
      "<class 'pandas.core.frame.DataFrame'>\n",
      "RangeIndex: 2392 entries, 0 to 2391\n",
      "Data columns (total 27 columns):\n",
      " #   Column                  Non-Null Count  Dtype  \n",
      "---  ------                  --------------  -----  \n",
      " 0   Age                     2392 non-null   int64  \n",
      " 1   Gender                  2392 non-null   int64  \n",
      " 2   Ethnicity               2392 non-null   int64  \n",
      " 3   EducationLevel          2392 non-null   int64  \n",
      " 4   BMI                     2392 non-null   float64\n",
      " 5   Smoking                 2392 non-null   int64  \n",
      " 6   PhysicalActivity        2392 non-null   float64\n",
      " 7   DietQuality             2392 non-null   float64\n",
      " 8   SleepQuality            2392 non-null   float64\n",
      " 9   PollutionExposure       2392 non-null   float64\n",
      " 10  PollenExposure          2392 non-null   float64\n",
      " 11  DustExposure            2392 non-null   float64\n",
      " 12  PetAllergy              2392 non-null   int64  \n",
      " 13  FamilyHistoryAsthma     2392 non-null   int64  \n",
      " 14  HistoryOfAllergies      2392 non-null   int64  \n",
      " 15  Eczema                  2392 non-null   int64  \n",
      " 16  HayFever                2392 non-null   int64  \n",
      " 17  GastroesophagealReflux  2392 non-null   int64  \n",
      " 18  LungFunctionFEV1        2392 non-null   float64\n",
      " 19  LungFunctionFVC         2392 non-null   float64\n",
      " 20  Wheezing                2392 non-null   int64  \n",
      " 21  ShortnessOfBreath       2392 non-null   int64  \n",
      " 22  ChestTightness          2392 non-null   int64  \n",
      " 23  Coughing                2392 non-null   int64  \n",
      " 24  NighttimeSymptoms       2392 non-null   int64  \n",
      " 25  ExerciseInduced         2392 non-null   int64  \n",
      " 26  Diagnosis               2392 non-null   int64  \n",
      "dtypes: float64(9), int64(18)\n",
      "memory usage: 504.7 KB\n"
     ]
    }
   ],
   "source": [
    "df = df.drop(columns=[\"PatientID\", \"DoctorInCharge\"])\n",
    "df.info()"
   ]
  },
  {
   "cell_type": "code",
   "execution_count": null,
   "id": "6f554f3f",
   "metadata": {},
   "outputs": [],
   "source": []
  }
 ],
 "metadata": {
  "kernelspec": {
   "display_name": "Python (ds-project-arch-lab)",
   "language": "python",
   "name": "ds-project-arch-lab"
  },
  "language_info": {
   "codemirror_mode": {
    "name": "ipython",
    "version": 3
   },
   "file_extension": ".py",
   "mimetype": "text/x-python",
   "name": "python",
   "nbconvert_exporter": "python",
   "pygments_lexer": "ipython3",
   "version": "3.12.6"
  }
 },
 "nbformat": 4,
 "nbformat_minor": 5
}
